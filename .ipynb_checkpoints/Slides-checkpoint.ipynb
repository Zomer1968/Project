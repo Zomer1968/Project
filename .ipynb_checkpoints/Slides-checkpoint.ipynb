{
 "cells": [
  {
   "cell_type": "markdown",
   "metadata": {
    "slideshow": {
     "slide_type": "slide"
    }
   },
   "source": [
    "# Covfeve #\n",
    "\n",
    "Nathalie, Nick, Hugo, Andreas\n",
    "\n",
    "\n",
    "Vergelijkend onderzoek naar tweets"
   ]
  },
  {
   "cell_type": "markdown",
   "metadata": {},
   "source": [
    "### Wat zijn de verschillen over twee perioden tussen de Android en iPhone tweets van Donald J Trump? ###\n",
    "\n",
    "\n",
    "Remake of http://varianceexplained.org/r/trump-tweets/\n",
    "\n",
    "\n",
    "Downloading Tweets: https://gist.github.com/yanofsky/5436496\n",
    "\n",
    "\n",
    "Sentiment analysis: \n",
    "\n",
    "#### Pak, A., & Paroubek, P. (2010, May). Twitter as a corpus for sentiment analysis and opinion mining. In LREc (Vol. 10, No. 2010).\n",
    "\n",
    "#### Agarwal, A., Xie, B., Vovsha, I., Rambow, O., & Passonneau, R. (2011, June). Sentiment analysis of twitter data. In Proceedings of the workshop on languages in social media (pp. 30-38). Association for Computational Linguistics."
   ]
  },
  {
   "cell_type": "markdown",
   "metadata": {},
   "source": [
    "## Dataverzameling\n",
    "\n",
    "\n",
    "* Data van originele onderzoek\n",
    "\n",
    "* Eigen data met python script. (max 3400) \n",
    "\n",
    "\n",
    "* Gebruikte kolommen:\n",
    "\n",
    "* tijd - text - source - fav - rt\n",
    "\n",
    "\n",
    "\n"
   ]
  },
  {
   "cell_type": "markdown",
   "metadata": {},
   "source": [
    "## Resultaten\n",
    "\n",
    "\n",
    "<img src='https://i.imgur.com/afdcAR4.png'/>\n",
    "\n",
    "<img src='https://i.imgur.com/9HAmACr.png'/>\n",
    "\n",
    "\n"
   ]
  },
  {
   "cell_type": "markdown",
   "metadata": {},
   "source": [
    "## Conclusie\n",
    "\n",
    "\n",
    "* Eerst groot verschil\n",
    "\n",
    "* Nu bijna gelijk\n",
    "\n"
   ]
  }
 ],
 "metadata": {
  "celltoolbar": "Slideshow",
  "kernelspec": {
   "display_name": "Python 3",
   "language": "python",
   "name": "python3"
  },
  "language_info": {
   "codemirror_mode": {
    "name": "ipython",
    "version": 3
   },
   "file_extension": ".py",
   "mimetype": "text/x-python",
   "name": "python",
   "nbconvert_exporter": "python",
   "pygments_lexer": "ipython3",
   "version": "3.6.4"
  }
 },
 "nbformat": 4,
 "nbformat_minor": 2
}
